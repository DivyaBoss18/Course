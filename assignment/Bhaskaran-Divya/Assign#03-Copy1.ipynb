{
 "cells": [
  {
   "cell_type": "code",
   "execution_count": null,
   "metadata": {
    "collapsed": true
   },
   "outputs": [],
   "source": [
    "import numpy as np\n",
    "import pandas as pd\n",
    "import matplotlib\n",
    "import matplotlib.pyplot as plt\n",
    "import string\n",
    "import tensorflow as tf\n",
    "import scipy\n",
    "import math\n",
    "import random"
   ]
  },
  {
   "cell_type": "code",
   "execution_count": null,
   "metadata": {
    "collapsed": true
   },
   "outputs": [],
   "source": [
    "random.seed(123)\n",
    "%matplotlib inline\n",
    "matplotlib.rcParams['figure.figsize'] = (10.0, 8.0)\n",
    "learningrate=0.1\n",
    "iterations=1000\n",
    "train = pd.read_csv(\"intro_to_ann.csv\")\n",
    "X_data, Y_data = np.array(train.ix[:,0:2]), np.array(train.ix[:,2])\n",
    "print (train.head())\n",
    "plt.scatter(X_data[:,0], X_data[:,1], s=40, c=Y_data, cmap=plt.cm.BuGn)\n"
   ]
  },
  {
   "cell_type": "code",
   "execution_count": null,
   "metadata": {
    "collapsed": true
   },
   "outputs": [],
   "source": [
    "hotvec = (np.arange(2) == Y_data[:, None]).astype(np.float32)\n",
    "print(Y_data[:, None])\n",
    "print(np.arange(2)==Y_data[:,None])\n",
    "print(hotvec)\n",
    "print(hotvec.shape)"
   ]
  },
  {
   "cell_type": "code",
   "execution_count": null,
   "metadata": {
    "collapsed": true
   },
   "outputs": [],
   "source": [
    "X = tf.placeholder(\"float\", [None, 2])\n",
    "Y = tf.placeholder(\"float\", [None, 2])\n",
    "W1 = tf.Variable(tf.zeros([2, 4]))\n",
    "b1 = tf.Variable(tf.zeros([4]))\n",
    "y1 = tf.nn.sigmoid(tf.matmul(X, W1) + b1)\n",
    "W2 = tf.Variable(tf.zeros([4, 2]))\n",
    "b2 = tf.Variable(tf.zeros([2]))\n",
    "y2 = tf.nn.sigmoid(tf.matmul(y1, W2) + b2)\n",
    "cost = tf.reduce_mean(tf.pow(Y - y2, 2))\n",
    "optimizer = tf.train.GradientDescentOptimizer(learningrate).minimize(cost)"
   ]
  },
  {
   "cell_type": "code",
   "execution_count": null,
   "metadata": {
    "collapsed": true
   },
   "outputs": [],
   "source": [
    "init = tf.initialize_all_variables()\n",
    "errors=[]\n",
    "with tf.Session() as sess:\n",
    "    sess.run(init)\n",
    "    correctval=tf.equal(tf.argmax(y2,1), tf.argmax(Y,1))\n",
    "    accuracy = tf.reduce_mean(tf.cast(correctval, tf.float32))\n",
    "    for i in range(iterations):\n",
    "        _,loss,predictedvalue=sess.run([optimizer,cost,y2],feed_dict={X:X_data,Y:hotvec})\n",
    "        accuracyeval=accuracy.eval(feed_dict={X:X_data, Y:hotvec})\n",
    "        errors.append(1 - accuracyeval)\n",
    "    print(sess.run(W2), \"\\n \", sess.run(b2))\n",
    "    print(errors[-1])"
   ]
  }
 ],
 "metadata": {
  "anaconda-cloud": {},
  "kernelspec": {
   "display_name": "Python [Root]",
   "language": "python",
   "name": "Python [Root]"
  },
  "language_info": {
   "codemirror_mode": {
    "name": "ipython",
    "version": 3
   },
   "file_extension": ".py",
   "mimetype": "text/x-python",
   "name": "python",
   "nbconvert_exporter": "python",
   "pygments_lexer": "ipython3",
   "version": "3.5.2"
  }
 },
 "nbformat": 4,
 "nbformat_minor": 0
}
